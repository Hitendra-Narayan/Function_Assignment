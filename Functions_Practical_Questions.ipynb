{
 "cells": [
  {
   "cell_type": "code",
   "execution_count": 14,
   "id": "edf1fea9-8020-40b8-892f-11e65e6367d9",
   "metadata": {},
   "outputs": [
    {
     "name": "stdout",
     "output_type": "stream",
     "text": [
      "20\n"
     ]
    }
   ],
   "source": [
    "#Q 01 Write a Python function that takes a list of numbers as input and returns the sum of all even numbers in the list ?\n",
    "\n",
    "def sum_of_even_numbers(numbers):\n",
    "    return sum(filter(lambda x: x % 2 == 0, numbers))\n",
    "\n",
    "#Example:\n",
    "numbers = [1, 2, 3, 4, 5, 6, 7, 8, 9]\n",
    "print (sum_of_even_numbers(numbers))"
   ]
  },
  {
   "cell_type": "code",
   "execution_count": 15,
   "id": "492305b9-37d2-48db-83b9-0152b043f83f",
   "metadata": {},
   "outputs": [
    {
     "name": "stdout",
     "output_type": "stream",
     "text": [
      "dlrow olleh\n"
     ]
    }
   ],
   "source": [
    "#Q 02 Create a Python function that accepts a string and returns the reverse of that string ?\n",
    "\n",
    "def reverse_string(a):\n",
    "    return a[::-1]\n",
    "\n",
    "#Example:\n",
    "string = \"hello world\"\n",
    "print (reverse_string(string))"
   ]
  },
  {
   "cell_type": "code",
   "execution_count": 16,
   "id": "56da7b9a-9834-46a9-ae9d-ae986c96fb95",
   "metadata": {},
   "outputs": [
    {
     "name": "stdout",
     "output_type": "stream",
     "text": [
      "[1, 4, 9, 16, 25]\n"
     ]
    }
   ],
   "source": [
    "#Q 03 Implement a Python function that takes a list of integers and returns a new list containing the squares of each number ?\n",
    "\n",
    "def square_numbers(numbers):\n",
    "    return [x**2 for x in numbers]\n",
    "\n",
    "#Example:\n",
    "numbers = [1, 2, 3, 4, 5]\n",
    "print (square_numbers(numbers))"
   ]
  },
  {
   "cell_type": "code",
   "execution_count": 21,
   "id": "2f7b90ed-0b65-4a3e-b02b-22aafb4048c4",
   "metadata": {},
   "outputs": [
    {
     "name": "stdout",
     "output_type": "stream",
     "text": [
      "True\n"
     ]
    }
   ],
   "source": [
    "#Q 04 Write a Python function that checks if a given number is prime or not from 1 to 200 ?\n",
    "\n",
    "def prime(n):\n",
    "    if n <= 1:\n",
    "        return False\n",
    "    for i in range(2, int(n ** 0.5) + 1):\n",
    "        if n % i == 0:\n",
    "            return False\n",
    "    return True\n",
    "\n",
    "#Example:\n",
    "number = 11\n",
    "print (prime(number))"
   ]
  },
  {
   "cell_type": "code",
   "execution_count": 22,
   "id": "2647cd92-a23f-481e-bcc1-50f0c310dd02",
   "metadata": {},
   "outputs": [
    {
     "name": "stdout",
     "output_type": "stream",
     "text": [
      "[0, 1, 1, 2, 3, 5, 8, 13, 21, 34]\n"
     ]
    }
   ],
   "source": [
    "#Q 05 Create an iterator class in Python that generates the Fibonacci sequence up to a specified number of terms ?\n",
    "\n",
    "class Iterator:\n",
    "    def __init__(self, n):\n",
    "        self.n = n\n",
    "        self.count = 0\n",
    "        self.a, self.b = 0, 1\n",
    "\n",
    "    def __iter__(self):\n",
    "        return self\n",
    "\n",
    "    def __next__(self):\n",
    "        if self.count >= self.n:\n",
    "            raise StopIteration\n",
    "        self.count += 1\n",
    "        fib = self.a\n",
    "        self.a, self.b = self.b, self.a + self.b\n",
    "        return fib\n",
    "\n",
    "#Example:\n",
    "fib_sequence = Iterator (10)\n",
    "print (list(fib_sequence))"
   ]
  },
  {
   "cell_type": "code",
   "execution_count": 23,
   "id": "7c7632ab-2e81-43e6-9862-6edd1343c125",
   "metadata": {},
   "outputs": [
    {
     "name": "stdout",
     "output_type": "stream",
     "text": [
      "1\n",
      "2\n",
      "4\n",
      "8\n",
      "16\n",
      "32\n"
     ]
    }
   ],
   "source": [
    "#Q 06 Write a generator function in Python that yields the powers of 2 up to a given exponent ?\n",
    "\n",
    "def powers_of_2(max_exponent):\n",
    "    exponent = 0\n",
    "    while exponent <= max_exponent:\n",
    "        yield 2 ** exponent\n",
    "        exponent += 1\n",
    "\n",
    "#Example:\n",
    "for power in powers_of_2(5):\n",
    "    print (power)"
   ]
  },
  {
   "cell_type": "code",
   "execution_count": null,
   "id": "e67f847b-c2a9-4fc0-bb73-e631318416b2",
   "metadata": {},
   "outputs": [
    {
     "ename": "FileNotFoundError",
     "evalue": "[Errno 2] No such file or directory: 'example.txt'",
     "output_type": "error",
     "traceback": [
      "\u001b[0;31m---------------------------------------------------------------------------\u001b[0m",
      "\u001b[0;31mFileNotFoundError\u001b[0m                         Traceback (most recent call last)",
      "Cell \u001b[0;32mIn[1], line 15\u001b[0m\n\u001b[1;32m      8\u001b[0m \u001b[38;5;66;03m#Example:\u001b[39;00m\n\u001b[1;32m      9\u001b[0m \u001b[38;5;66;03m#Assume you have a file named 'example.txt' with the following content:\u001b[39;00m\n\u001b[1;32m     10\u001b[0m \u001b[38;5;66;03m#Hello, world!\u001b[39;00m\n\u001b[1;32m     11\u001b[0m \u001b[38;5;66;03m#This is a test file.\u001b[39;00m\n\u001b[1;32m     12\u001b[0m \u001b[38;5;66;03m#It has multiple lines.\u001b[39;00m\n\u001b[1;32m     14\u001b[0m filename \u001b[38;5;241m=\u001b[39m \u001b[38;5;124m\"\u001b[39m\u001b[38;5;124mexample.txt\u001b[39m\u001b[38;5;124m\"\u001b[39m\n\u001b[0;32m---> 15\u001b[0m \u001b[38;5;28;01mfor\u001b[39;00m line \u001b[38;5;129;01min\u001b[39;00m read_lines(filename):\n\u001b[1;32m     16\u001b[0m     \u001b[38;5;28mprint\u001b[39m (line)\n",
      "Cell \u001b[0;32mIn[1], line 4\u001b[0m, in \u001b[0;36mread_lines\u001b[0;34m(filename)\u001b[0m\n\u001b[1;32m      3\u001b[0m \u001b[38;5;28;01mdef\u001b[39;00m \u001b[38;5;21mread_lines\u001b[39m(filename):\n\u001b[0;32m----> 4\u001b[0m     \u001b[38;5;28;01mwith\u001b[39;00m \u001b[38;5;28;43mopen\u001b[39;49m\u001b[43m(\u001b[49m\u001b[43mfilename\u001b[49m\u001b[43m,\u001b[49m\u001b[43m \u001b[49m\u001b[38;5;124;43m'\u001b[39;49m\u001b[38;5;124;43mr\u001b[39;49m\u001b[38;5;124;43m'\u001b[39;49m\u001b[43m)\u001b[49m \u001b[38;5;28;01mas\u001b[39;00m file:\n\u001b[1;32m      5\u001b[0m         \u001b[38;5;28;01mfor\u001b[39;00m line \u001b[38;5;129;01min\u001b[39;00m file:\n\u001b[1;32m      6\u001b[0m             \u001b[38;5;28;01myield\u001b[39;00m line\u001b[38;5;241m.\u001b[39mstrip()\n",
      "File \u001b[0;32m/opt/conda/lib/python3.10/site-packages/IPython/core/interactiveshell.py:282\u001b[0m, in \u001b[0;36m_modified_open\u001b[0;34m(file, *args, **kwargs)\u001b[0m\n\u001b[1;32m    275\u001b[0m \u001b[38;5;28;01mif\u001b[39;00m file \u001b[38;5;129;01min\u001b[39;00m {\u001b[38;5;241m0\u001b[39m, \u001b[38;5;241m1\u001b[39m, \u001b[38;5;241m2\u001b[39m}:\n\u001b[1;32m    276\u001b[0m     \u001b[38;5;28;01mraise\u001b[39;00m \u001b[38;5;167;01mValueError\u001b[39;00m(\n\u001b[1;32m    277\u001b[0m         \u001b[38;5;124mf\u001b[39m\u001b[38;5;124m\"\u001b[39m\u001b[38;5;124mIPython won\u001b[39m\u001b[38;5;124m'\u001b[39m\u001b[38;5;124mt let you open fd=\u001b[39m\u001b[38;5;132;01m{\u001b[39;00mfile\u001b[38;5;132;01m}\u001b[39;00m\u001b[38;5;124m by default \u001b[39m\u001b[38;5;124m\"\u001b[39m\n\u001b[1;32m    278\u001b[0m         \u001b[38;5;124m\"\u001b[39m\u001b[38;5;124mas it is likely to crash IPython. If you know what you are doing, \u001b[39m\u001b[38;5;124m\"\u001b[39m\n\u001b[1;32m    279\u001b[0m         \u001b[38;5;124m\"\u001b[39m\u001b[38;5;124myou can use builtins\u001b[39m\u001b[38;5;124m'\u001b[39m\u001b[38;5;124m open.\u001b[39m\u001b[38;5;124m\"\u001b[39m\n\u001b[1;32m    280\u001b[0m     )\n\u001b[0;32m--> 282\u001b[0m \u001b[38;5;28;01mreturn\u001b[39;00m \u001b[43mio_open\u001b[49m\u001b[43m(\u001b[49m\u001b[43mfile\u001b[49m\u001b[43m,\u001b[49m\u001b[43m \u001b[49m\u001b[38;5;241;43m*\u001b[39;49m\u001b[43margs\u001b[49m\u001b[43m,\u001b[49m\u001b[43m \u001b[49m\u001b[38;5;241;43m*\u001b[39;49m\u001b[38;5;241;43m*\u001b[39;49m\u001b[43mkwargs\u001b[49m\u001b[43m)\u001b[49m\n",
      "\u001b[0;31mFileNotFoundError\u001b[0m: [Errno 2] No such file or directory: 'example.txt'"
     ]
    }
   ],
   "source": [
    "#Q 07 Implement a generator function that reads a file line by line and yields each line as a string ?\n",
    "\n",
    "def read_lines(filename):\n",
    "    with open(filename, 'r') as file:\n",
    "        for line in file:\n",
    "            yield line.strip()\n",
    "\n",
    "#Example:\n",
    "#Let's Assume we have a file named 'example.txt' with the following input content:\n",
    "\"\"\"Hello, world!\n",
    "This is a test file.\n",
    "It has multiple lines.\"\"\"\n",
    "\n",
    "filename = \"example.txt\"\n",
    "for line in read_lines(filename):\n",
    "    print (line) \n",
    "#Output: \n",
    "#\"Hello, world!\"\n",
    "#\"This is a test file.\"\n",
    "#\"It has multiple lines.\""
   ]
  },
  {
   "cell_type": "code",
   "execution_count": 2,
   "id": "30db0d20-64f5-436d-b353-4cc3ff1da533",
   "metadata": {},
   "outputs": [
    {
     "name": "stdout",
     "output_type": "stream",
     "text": [
      "[(2, 1), (4, 2), (1, 3), (3, 5)]\n"
     ]
    }
   ],
   "source": [
    "#Q 08 Use a lambda function in Python to sort a list of tuples based on the second element of each tuple ?\n",
    "\n",
    "list_of_tuples = [(1, 3), (2, 1), (4, 2), (3, 5)]\n",
    "\n",
    "sorted_list = sorted(list_of_tuples, key=lambda x: x[1])\n",
    "\n",
    "#Example:\n",
    "print(sorted_list)"
   ]
  },
  {
   "cell_type": "code",
   "execution_count": 3,
   "id": "81ff8a07-a42e-418f-a393-f66f46b90c33",
   "metadata": {},
   "outputs": [
    {
     "name": "stdout",
     "output_type": "stream",
     "text": [
      "[32.0, 68.0, 98.6, 212.0]\n"
     ]
    }
   ],
   "source": [
    "#Q 09 Write a Python program that uses `map()` to convert a list of temperatures from Celsius to Fahrenheit ?\n",
    "\n",
    "def celsius_to_fahrenheit(celsius):\n",
    "    return (celsius * 9/5) + 32\n",
    "\n",
    "celsius_temps = [0, 20, 37, 100]\n",
    "\n",
    "fahrenheit_temps = list(map(celsius_to_fahrenheit, celsius_temps))\n",
    "\n",
    "#Example:\n",
    "print (fahrenheit_temps)"
   ]
  },
  {
   "cell_type": "code",
   "execution_count": 4,
   "id": "be9020c9-b321-4cad-8a04-9b51a39bf709",
   "metadata": {},
   "outputs": [
    {
     "name": "stdout",
     "output_type": "stream",
     "text": [
      "Hll, Wrld!\n"
     ]
    }
   ],
   "source": [
    "#Q 10 Create a Python program that uses `filter()` to remove all the vowels from a given string ?\n",
    "\n",
    "def remove_vowels(s):\n",
    "    vowels = \"aeiouAEIOU\"\n",
    "    return ''.join(filter(lambda char: char not in vowels, s))\n",
    "\n",
    "#Example:\n",
    "input_string = \"Hello, World!\"\n",
    "result = remove_vowels(input_string)\n",
    "print (result)"
   ]
  },
  {
   "cell_type": "code",
   "execution_count": 8,
   "id": "c3f4faf7-d7e2-48d4-80bc-b0663794487d",
   "metadata": {},
   "outputs": [
    {
     "name": "stdout",
     "output_type": "stream",
     "text": [
      "[(34587, 163.8), (98762, 284.0), (77226, 108.85), (88112, 84.97)]\n"
     ]
    }
   ],
   "source": [
    "#Q 11  Imagine an accounting routine used in a book shop. It works on a list with sublists, which look like this:\n",
    "\n",
    "\"\"\" Write a Python program, which returns a list with 2-tuples. Each tuple consists of the order number and the\n",
    "product of the price per item and the quantity. The product should be increased by 10,- € if the value of the\n",
    "order is smaller than 100,00 €. \"\"\"\n",
    "\n",
    "\n",
    "orders = [\n",
    "    [34587, \"Learning Python, Mark Lutz\", 4, 40.95],\n",
    "    [98762, \"Programming Python, Mark Lutz\", 5, 56.80],\n",
    "    [77226, \"Head First Python, Paul Barry\", 3, 32.95],\n",
    "    [88112, \"Einführung in Python3, Bernd Klein\", 3, 24.99]\n",
    "]\n",
    "\n",
    "#Python Program:\n",
    "def calculate_total(Order):\n",
    "    Order_number, Book_Title_and_Author, quantity, price_per_item = Order\n",
    "    Total = quantity * price_per_item\n",
    "    if Total < 100:\n",
    "        Total += 10\n",
    "    return Order_number, round (Total, 2)\n",
    "\n",
    "result = list(map(calculate_total, orders))\n",
    "\n",
    "print (result)"
   ]
  },
  {
   "cell_type": "code",
   "execution_count": 9,
   "id": "30fd0372-ed46-4d3a-9b49-a746aa3ae11f",
   "metadata": {},
   "outputs": [
    {
     "name": "stdout",
     "output_type": "stream",
     "text": [
      "[(34587, 163.8), (98762, 284.0), (77226, 98.85), (88112, 74.97)]\n"
     ]
    }
   ],
   "source": [
    "\"\"\" Write a Python program using lambda and map \"\"\"\n",
    "\n",
    "Orders = [\n",
    "    [34587, \"Learning Python, Mark Lutz\", 4, 40.95],\n",
    "    [98762, \"Programming Python, Mark Lutz\", 5, 56.80],\n",
    "    [77226, \"Head First Python, Paul Barry\", 3, 32.95],\n",
    "    [88112, \"Einführung in Python3, Bernd Klein\", 3, 24.99]\n",
    "]\n",
    "\n",
    "#Python program using lambda and map\n",
    "Calculate_total = lambda Order: (Order[0], round(Order[2] * Order[3], 2))\n",
    "\n",
    "Order_totals = list(map(Calculate_total, Orders))\n",
    "\n",
    "print (Order_totals)"
   ]
  }
 ],
 "metadata": {
  "kernelspec": {
   "display_name": "Python 3 (ipykernel)",
   "language": "python",
   "name": "python3"
  },
  "language_info": {
   "codemirror_mode": {
    "name": "ipython",
    "version": 3
   },
   "file_extension": ".py",
   "mimetype": "text/x-python",
   "name": "python",
   "nbconvert_exporter": "python",
   "pygments_lexer": "ipython3",
   "version": "3.10.8"
  }
 },
 "nbformat": 4,
 "nbformat_minor": 5
}
